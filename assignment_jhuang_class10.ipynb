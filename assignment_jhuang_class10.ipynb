{
  "nbformat": 4,
  "nbformat_minor": 0,
  "metadata": {
    "anaconda-cloud": {},
    "kernelspec": {
      "display_name": "Python 3.6 (tensorflow)",
      "language": "python",
      "name": "rga"
    },
    "language_info": {
      "codemirror_mode": {
        "name": "ipython",
        "version": 3
      },
      "file_extension": ".py",
      "mimetype": "text/x-python",
      "name": "python",
      "nbconvert_exporter": "python",
      "pygments_lexer": "ipython3",
      "version": "3.6.9"
    },
    "colab": {
      "name": "assignment_jhuang_class10.ipynb",
      "provenance": []
    }
  },
  "cells": [
    {
      "cell_type": "markdown",
      "metadata": {
        "id": "A1XB60rUl5c5",
        "colab_type": "text"
      },
      "source": [
        "# T81-558: Applications of Deep Neural Networks\n",
        "* Instructor: [Jeff Heaton](https://sites.wustl.edu/jeffheaton/), School of Engineering and Applied Science, [Washington University in St. Louis](https://engineering.wustl.edu/Programs/Pages/default.aspx)\n",
        "* For more information visit the [class website](https://sites.wustl.edu/jeffheaton/t81-558/).\n",
        "\n",
        "**Module 10 Assignment: Time Series Neural Network**\n",
        "\n",
        "**Student Name: Julia Huang**"
      ]
    },
    {
      "cell_type": "markdown",
      "metadata": {
        "id": "NWGibVdAl5c-",
        "colab_type": "text"
      },
      "source": [
        "# Assignment Instructions\n",
        "\n",
        "For this assignment you will use a LSTM to predict a time series contained in the data file **[series-31-num.csv](https://data.heatonresearch.com/data/t81-558/datasets/series-31-num.csv)**.  The code that you will use to complete this will be similar to the sunspots example from the course module.  This data set contains two columns: *time* and *value*.  Create a LSTM network and train it with a sequence size of 5 and a prediction window of 1.  If you use a different sequence size, you will not have the correct number of submission rows. Train the neural network, the data set is fairly simple and you should easily be able to get a RMSE below 1.0.  FYI, I generate this datasets by fitting a cubic spline to a series of random points. \n",
        "\n",
        "This is a time series data set, do not randomize the order of the rows!  For your training data use all *time* values less than 3000 and for test, use the remaining values greater than or equal to 3000. For the submit file, send me the results of your test evaluation.  You should have two columns: *time* and *value*.  The column *time* should be the time at the beginning of each predicted sequence. The *value* should be the next value that was predicted for each of your sequences.\n",
        "\n",
        "Your submission file will look similar to:\n",
        "\n",
        "|time|value|\n",
        "|-|-|\n",
        "|3000|37.022846|\n",
        "|3001|37.030582|\n",
        "|3002|37.03816|\n",
        "|3003|37.045563|\n",
        "|3004|37.0528|\n",
        "|...|...|"
      ]
    },
    {
      "cell_type": "markdown",
      "metadata": {
        "id": "EuVwFlxrl5dA",
        "colab_type": "text"
      },
      "source": [
        "# Assignment Submit Function\n",
        "\n",
        "You will submit the 10 programming assignments electronically.  The following submit function can be used to do this.  My server will perform a basic check of each assignment and let you know if it sees any basic problems. \n",
        "\n",
        "**It is unlikely that should need to modify this function.**"
      ]
    },
    {
      "cell_type": "code",
      "metadata": {
        "id": "yKrQ67Url5dD",
        "colab_type": "code",
        "colab": {}
      },
      "source": [
        "import base64\n",
        "import os\n",
        "import numpy as np\n",
        "import pandas as pd\n",
        "import requests\n",
        "\n",
        "# This function submits an assignment.  You can submit an assignment as much as you like, only the final\n",
        "# submission counts.  The paramaters are as follows:\n",
        "# data - Pandas dataframe output.\n",
        "# key - Your student key that was emailed to you.\n",
        "# no - The assignment class number, should be 1 through 1.\n",
        "# source_file - The full path to your Python or IPYNB file.  This must have \"_class1\" as part of its name.  \n",
        "# .             The number must match your assignment number.  For example \"_class2\" for class assignment #2.\n",
        "def submit(data,key,no,source_file=None):\n",
        "    if source_file is None and '__file__' not in globals(): raise Exception('Must specify a filename when a Jupyter notebook.')\n",
        "    if source_file is None: source_file = __file__\n",
        "    suffix = '_class{}'.format(no)\n",
        "    if suffix not in source_file: raise Exception('{} must be part of the filename.'.format(suffix))\n",
        "    with open(source_file, \"rb\") as image_file:\n",
        "        encoded_python = base64.b64encode(image_file.read()).decode('ascii')\n",
        "    ext = os.path.splitext(source_file)[-1].lower()\n",
        "    if ext not in ['.ipynb','.py']: raise Exception(\"Source file is {} must be .py or .ipynb\".format(ext))\n",
        "    r = requests.post(\"https://api.heatonresearch.com/assignment-submit\",\n",
        "        headers={'x-api-key':key}, json={'csv':base64.b64encode(data.to_csv(index=False).encode('ascii')).decode(\"ascii\"),\n",
        "        'assignment': no, 'ext':ext, 'py':encoded_python})\n",
        "    if r.status_code == 200:\n",
        "        print(\"Success: {}\".format(r.text))\n",
        "    else: print(\"Failure: {}\".format(r.text))"
      ],
      "execution_count": 0,
      "outputs": []
    },
    {
      "cell_type": "markdown",
      "metadata": {
        "id": "YNHSJgJ-l5dH",
        "colab_type": "text"
      },
      "source": [
        "# Google CoLab Instructions\n",
        "\n",
        "If you are using Google CoLab, it will be necessary to mount your GDrive so that you can send your notebook during the submit process.  Running the following code will map your GDrive to /content/drive."
      ]
    },
    {
      "cell_type": "code",
      "metadata": {
        "id": "6P5Qk5Lal5dI",
        "colab_type": "code",
        "colab": {
          "base_uri": "https://localhost:8080/",
          "height": 122
        },
        "outputId": "b9c40b84-237c-490d-a0c0-defd42542bde"
      },
      "source": [
        "from google.colab import drive\n",
        "drive.mount('/content/drive')"
      ],
      "execution_count": 2,
      "outputs": [
        {
          "output_type": "stream",
          "text": [
            "Go to this URL in a browser: https://accounts.google.com/o/oauth2/auth?client_id=947318989803-6bn6qk8qdgf4n4g3pfee6491hc0brc4i.apps.googleusercontent.com&redirect_uri=urn%3Aietf%3Awg%3Aoauth%3A2.0%3Aoob&scope=email%20https%3A%2F%2Fwww.googleapis.com%2Fauth%2Fdocs.test%20https%3A%2F%2Fwww.googleapis.com%2Fauth%2Fdrive%20https%3A%2F%2Fwww.googleapis.com%2Fauth%2Fdrive.photos.readonly%20https%3A%2F%2Fwww.googleapis.com%2Fauth%2Fpeopleapi.readonly&response_type=code\n",
            "\n",
            "Enter your authorization code:\n",
            "··········\n",
            "Mounted at /content/drive\n"
          ],
          "name": "stdout"
        }
      ]
    },
    {
      "cell_type": "code",
      "metadata": {
        "id": "BsNSVctNl5dM",
        "colab_type": "code",
        "colab": {
          "base_uri": "https://localhost:8080/",
          "height": 153
        },
        "outputId": "685fb44b-6705-4ffe-9af0-a4a3e07c026c"
      },
      "source": [
        "!ls /content/drive/My\\ Drive/Colab\\ Notebooks"
      ],
      "execution_count": 3,
      "outputs": [
        {
          "output_type": "stream",
          "text": [
            "assignment_hjulia_class7.ipynb\t assignment_jhuang_class8.ipynb\n",
            "assignment_jhuang_class10.ipynb  assignment_juliahuang_class3.ipynb\n",
            "assignment_jhuang_class1.ipynb\t assignment_ZachWang_class9.ipynb\n",
            "assignment_jhuang_class2.ipynb\t Kaggle_features_v1.ipynb\n",
            "assignment_jhuang_class3.ipynb\t Kaggle_preprocessing_v1.ipynb\n",
            "assignment_jhuang_class4.ipynb\t Untitled\n",
            "assignment_jhuang_class5.ipynb\t Untitled0.ipynb\n",
            "assignment_jhuang_class6.ipynb\n"
          ],
          "name": "stdout"
        }
      ]
    },
    {
      "cell_type": "markdown",
      "metadata": {
        "collapsed": true,
        "id": "LEN6VOpvl5dS",
        "colab_type": "text"
      },
      "source": [
        "# Assignment #10 Sample Code\n",
        "\n",
        "The following code provides a starting point for this assignment."
      ]
    },
    {
      "cell_type": "code",
      "metadata": {
        "id": "U0EpyMNVl5dT",
        "colab_type": "code",
        "colab": {
          "base_uri": "https://localhost:8080/",
          "height": 425
        },
        "outputId": "9deee2f6-048f-4c66-8627-e75c4828ce4d"
      },
      "source": [
        "import pandas as pd\n",
        "import os\n",
        "\n",
        "    \n",
        "\n",
        "# This is your student key that I emailed to you at the beginnning of the semester.\n",
        "key = \"Yg3Uc8sn118A6HaWAFSKG5g1Th1nOyw34jLD5Uh8\"  # This is an example key and will not work.\n",
        "\n",
        "# You must also identify your source file.  (modify for your local setup)\n",
        "file='/content/drive/My Drive/Colab Notebooks/assignment_jhuang_class10.ipynb'  # Google CoLab\n",
        "# file='C:\\\\Users\\\\jeffh\\\\projects\\\\t81_558_deep_learning\\\\assignments\\\\assignment_yourname_class10.ipynb'  # Windows\n",
        "#file='/Users/jheaton/projects/t81_558_deep_learning/assignments/assignment_yourname_class10.ipynb'  # Mac/Linux\n",
        "\n",
        "# Read from time series file\n",
        "df = pd.read_csv(\"https://data.heatonresearch.com/data/t81-558/datasets/series-31-num.csv\")\n",
        "\n",
        "\n",
        "print(\"Starting file:\")\n",
        "print(df[0:10])\n",
        "\n",
        "print(\"Ending file:\")\n",
        "print(df[-10:])\n",
        "\n",
        "\n"
      ],
      "execution_count": 13,
      "outputs": [
        {
          "output_type": "stream",
          "text": [
            "Starting file:\n",
            "   time      value\n",
            "0     0  10.000000\n",
            "1     1  10.050953\n",
            "2     2  10.101758\n",
            "3     3  10.152415\n",
            "4     4  10.202924\n",
            "5     5  10.253286\n",
            "6     6  10.303499\n",
            "7     7  10.353566\n",
            "8     8  10.403485\n",
            "9     9  10.453256\n",
            "Ending file:\n",
            "      time      value\n",
            "3990  3990  14.694572\n",
            "3991  3991  14.727313\n",
            "3992  3992  14.760351\n",
            "3993  3993  14.793687\n",
            "3994  3994  14.827322\n",
            "3995  3995  14.861256\n",
            "3996  3996  14.895491\n",
            "3997  3997  14.930026\n",
            "3998  3998  14.964862\n",
            "3999  3999  15.000000\n"
          ],
          "name": "stdout"
        }
      ]
    },
    {
      "cell_type": "code",
      "metadata": {
        "id": "HcaBt2T4l5dX",
        "colab_type": "code",
        "colab": {
          "base_uri": "https://localhost:8080/",
          "height": 51
        },
        "outputId": "3b1fcd9e-04db-440c-deaa-7d4dc0e160a0"
      },
      "source": [
        "df_train = df[df['time']<3000]\n",
        "df_test = df[df['time']>=3000]\n",
        "\n",
        "series_train = df_train['value'].tolist()\n",
        "series_test = df_test['value'].tolist()\n",
        "\n",
        "print(\"Training set has {} observations.\".format(len(series_train)))\n",
        "print(\"Test set has {} observations.\".format(len(series_test)))\n"
      ],
      "execution_count": 14,
      "outputs": [
        {
          "output_type": "stream",
          "text": [
            "Training set has 3000 observations.\n",
            "Test set has 1000 observations.\n"
          ],
          "name": "stdout"
        }
      ]
    },
    {
      "cell_type": "code",
      "metadata": {
        "id": "0W6nrfjjt-h_",
        "colab_type": "code",
        "colab": {
          "base_uri": "https://localhost:8080/",
          "height": 221
        },
        "outputId": "f80b5295-7fc5-4a24-e8fc-ac44fecb92ab"
      },
      "source": [
        "time=df_test.time\n",
        "time"
      ],
      "execution_count": 47,
      "outputs": [
        {
          "output_type": "execute_result",
          "data": {
            "text/plain": [
              "3000    3000\n",
              "3001    3001\n",
              "3002    3002\n",
              "3003    3003\n",
              "3004    3004\n",
              "        ... \n",
              "3995    3995\n",
              "3996    3996\n",
              "3997    3997\n",
              "3998    3998\n",
              "3999    3999\n",
              "Name: time, Length: 1000, dtype: int64"
            ]
          },
          "metadata": {
            "tags": []
          },
          "execution_count": 47
        }
      ]
    },
    {
      "cell_type": "code",
      "metadata": {
        "id": "SfjCvrE5oEhU",
        "colab_type": "code",
        "colab": {
          "base_uri": "https://localhost:8080/",
          "height": 51
        },
        "outputId": "7cb49076-ade9-4dcc-abcc-b99fd4c54ff2"
      },
      "source": [
        "import numpy as np\n",
        "def to_sequences(seq_size, obs):\n",
        "    x = []\n",
        "    y = []\n",
        "\n",
        "    for i in range(len(obs)-SEQUENCE_SIZE):\n",
        "        #print(i)\n",
        "        window = obs[i:(i+SEQUENCE_SIZE)]\n",
        "        after_window = obs[i+SEQUENCE_SIZE]\n",
        "        window = [[x] for x in window]\n",
        "        #print(\"{} - {}\".format(window,after_window))\n",
        "        x.append(window)\n",
        "        y.append(after_window)\n",
        "        \n",
        "    return np.array(x),np.array(y)\n",
        "\n",
        "SEQUENCE_SIZE = 5\n",
        "x_train,y_train = to_sequences(SEQUENCE_SIZE,series_train)\n",
        "x_test,y_test = to_sequences(SEQUENCE_SIZE,series_test)\n",
        "\n",
        "print(\"Shape of training set: {}\".format(x_train.shape))\n",
        "print(\"Shape of test set: {}\".format(x_test.shape))"
      ],
      "execution_count": 37,
      "outputs": [
        {
          "output_type": "stream",
          "text": [
            "Shape of training set: (2995, 5, 1)\n",
            "Shape of test set: (995, 5, 1)\n"
          ],
          "name": "stdout"
        }
      ]
    },
    {
      "cell_type": "code",
      "metadata": {
        "id": "84iirFm9oxvo",
        "colab_type": "code",
        "colab": {
          "base_uri": "https://localhost:8080/",
          "height": 646
        },
        "outputId": "8f419f6f-5fc2-4347-eaf4-4b1114f76648"
      },
      "source": [
        "\n",
        "x_train"
      ],
      "execution_count": 38,
      "outputs": [
        {
          "output_type": "execute_result",
          "data": {
            "text/plain": [
              "array([[[10.        ],\n",
              "        [10.05095321],\n",
              "        [10.10175826],\n",
              "        [10.15241526],\n",
              "        [10.20292437]],\n",
              "\n",
              "       [[10.05095321],\n",
              "        [10.10175826],\n",
              "        [10.15241526],\n",
              "        [10.20292437],\n",
              "        [10.25328571]],\n",
              "\n",
              "       [[10.10175826],\n",
              "        [10.15241526],\n",
              "        [10.20292437],\n",
              "        [10.25328571],\n",
              "        [10.30349943]],\n",
              "\n",
              "       ...,\n",
              "\n",
              "       [[36.47831158],\n",
              "        [36.49049175],\n",
              "        [36.50246712],\n",
              "        [36.51423794],\n",
              "        [36.52580449]],\n",
              "\n",
              "       [[36.49049175],\n",
              "        [36.50246712],\n",
              "        [36.51423794],\n",
              "        [36.52580449],\n",
              "        [36.537167  ]],\n",
              "\n",
              "       [[36.50246712],\n",
              "        [36.51423794],\n",
              "        [36.52580449],\n",
              "        [36.537167  ],\n",
              "        [36.54832574]]])"
            ]
          },
          "metadata": {
            "tags": []
          },
          "execution_count": 38
        }
      ]
    },
    {
      "cell_type": "code",
      "metadata": {
        "id": "2ZxOPhelo0cg",
        "colab_type": "code",
        "colab": {
          "base_uri": "https://localhost:8080/",
          "height": 901
        },
        "outputId": "40bdbbda-5a99-4b2e-e94b-b7dfb056cb0b"
      },
      "source": [
        "from tensorflow.keras.preprocessing import sequence\n",
        "from tensorflow.keras.models import Sequential\n",
        "from tensorflow.keras.layers import Dense, Embedding\n",
        "from tensorflow.keras.layers import LSTM\n",
        "from tensorflow.keras.datasets import imdb\n",
        "from tensorflow.keras.callbacks import EarlyStopping\n",
        "import numpy as np\n",
        "\n",
        "print('Build model...')\n",
        "model = Sequential()\n",
        "model.add(LSTM(64, dropout=0.0, recurrent_dropout=0.0,input_shape=(None, 1)))\n",
        "model.add(Dense(32))\n",
        "model.add(Dense(1))\n",
        "model.compile(loss='mean_squared_error', optimizer='adam')\n",
        "monitor = EarlyStopping(monitor='val_loss', min_delta=1e-3, patience=5, verbose=1, mode='auto', restore_best_weights=True)\n",
        "print('Train...')\n",
        "\n",
        "model.fit(x_train,y_train,validation_data=(x_test,y_test),callbacks=[monitor],verbose=2,epochs=1000)"
      ],
      "execution_count": 39,
      "outputs": [
        {
          "output_type": "stream",
          "text": [
            "Build model...\n",
            "Train...\n",
            "Train on 2995 samples, validate on 995 samples\n",
            "Epoch 1/1000\n",
            "2995/2995 - 2s - loss: 59.9661 - val_loss: 12.6534\n",
            "Epoch 2/1000\n",
            "2995/2995 - 1s - loss: 0.3260 - val_loss: 0.3293\n",
            "Epoch 3/1000\n",
            "2995/2995 - 1s - loss: 0.0192 - val_loss: 0.1103\n",
            "Epoch 4/1000\n",
            "2995/2995 - 1s - loss: 0.0074 - val_loss: 0.0576\n",
            "Epoch 5/1000\n",
            "2995/2995 - 1s - loss: 0.0051 - val_loss: 0.0437\n",
            "Epoch 6/1000\n",
            "2995/2995 - 1s - loss: 0.0029 - val_loss: 0.0260\n",
            "Epoch 7/1000\n",
            "2995/2995 - 1s - loss: 0.0030 - val_loss: 0.0202\n",
            "Epoch 8/1000\n",
            "2995/2995 - 1s - loss: 0.0023 - val_loss: 0.0340\n",
            "Epoch 9/1000\n",
            "2995/2995 - 1s - loss: 0.0025 - val_loss: 0.0186\n",
            "Epoch 10/1000\n",
            "2995/2995 - 1s - loss: 0.0024 - val_loss: 0.0216\n",
            "Epoch 11/1000\n",
            "2995/2995 - 1s - loss: 0.0020 - val_loss: 0.0155\n",
            "Epoch 12/1000\n",
            "2995/2995 - 1s - loss: 0.0020 - val_loss: 0.0224\n",
            "Epoch 13/1000\n",
            "2995/2995 - 1s - loss: 0.0019 - val_loss: 0.0191\n",
            "Epoch 14/1000\n",
            "2995/2995 - 1s - loss: 0.0023 - val_loss: 0.0164\n",
            "Epoch 15/1000\n",
            "2995/2995 - 1s - loss: 0.0017 - val_loss: 0.0125\n",
            "Epoch 16/1000\n",
            "2995/2995 - 1s - loss: 0.0018 - val_loss: 0.0181\n",
            "Epoch 17/1000\n",
            "2995/2995 - 1s - loss: 0.0018 - val_loss: 0.0347\n",
            "Epoch 18/1000\n",
            "2995/2995 - 1s - loss: 0.0026 - val_loss: 0.0071\n",
            "Epoch 19/1000\n",
            "2995/2995 - 1s - loss: 0.0053 - val_loss: 0.0339\n",
            "Epoch 20/1000\n",
            "2995/2995 - 1s - loss: 0.0030 - val_loss: 0.0127\n",
            "Epoch 21/1000\n",
            "2995/2995 - 1s - loss: 0.0016 - val_loss: 0.0139\n",
            "Epoch 22/1000\n",
            "2995/2995 - 1s - loss: 0.0016 - val_loss: 0.0188\n",
            "Epoch 23/1000\n",
            "Restoring model weights from the end of the best epoch.\n",
            "2995/2995 - 1s - loss: 0.0017 - val_loss: 0.0088\n",
            "Epoch 00023: early stopping\n"
          ],
          "name": "stdout"
        },
        {
          "output_type": "execute_result",
          "data": {
            "text/plain": [
              "<tensorflow.python.keras.callbacks.History at 0x7fcf3d795fd0>"
            ]
          },
          "metadata": {
            "tags": []
          },
          "execution_count": 39
        }
      ]
    },
    {
      "cell_type": "code",
      "metadata": {
        "id": "XQbjBdtDpPuV",
        "colab_type": "code",
        "colab": {
          "base_uri": "https://localhost:8080/",
          "height": 34
        },
        "outputId": "74e04852-4863-4523-b0e3-03c93dbb08b3"
      },
      "source": [
        "from sklearn import metrics\n",
        "\n",
        "pred = model.predict(x_test)\n",
        "score = np.sqrt(metrics.mean_squared_error(pred,y_test))\n",
        "print(\"Score (RMSE): {}\".format(score))\n"
      ],
      "execution_count": 40,
      "outputs": [
        {
          "output_type": "stream",
          "text": [
            "Score (RMSE): 0.08435883438478084\n"
          ],
          "name": "stdout"
        }
      ]
    },
    {
      "cell_type": "code",
      "metadata": {
        "id": "8WLELAJMzMnQ",
        "colab_type": "code",
        "colab": {
          "base_uri": "https://localhost:8080/",
          "height": 34
        },
        "outputId": "4ef2fdf8-ef2c-45fb-c849-9471a1a57508"
      },
      "source": [
        "pred.shape"
      ],
      "execution_count": 61,
      "outputs": [
        {
          "output_type": "execute_result",
          "data": {
            "text/plain": [
              "(995, 1)"
            ]
          },
          "metadata": {
            "tags": []
          },
          "execution_count": 61
        }
      ]
    },
    {
      "cell_type": "code",
      "metadata": {
        "id": "sygZSxJJqJdA",
        "colab_type": "code",
        "colab": {
          "base_uri": "https://localhost:8080/",
          "height": 419
        },
        "outputId": "463d62f3-9325-45a9-d9ca-6f5aebde20c9"
      },
      "source": [
        "df_submit=pd.DataFrame(pred, columns=[\"value\"])\n",
        "df_submit.index = df_submit.index + 3000\n",
        "df_submit=pd.concat([time, df_submit], axis=1)\n",
        "df_submit.dropna(inplace=True)\n",
        "df_submit"
      ],
      "execution_count": 66,
      "outputs": [
        {
          "output_type": "execute_result",
          "data": {
            "text/html": [
              "<div>\n",
              "<style scoped>\n",
              "    .dataframe tbody tr th:only-of-type {\n",
              "        vertical-align: middle;\n",
              "    }\n",
              "\n",
              "    .dataframe tbody tr th {\n",
              "        vertical-align: top;\n",
              "    }\n",
              "\n",
              "    .dataframe thead th {\n",
              "        text-align: right;\n",
              "    }\n",
              "</style>\n",
              "<table border=\"1\" class=\"dataframe\">\n",
              "  <thead>\n",
              "    <tr style=\"text-align: right;\">\n",
              "      <th></th>\n",
              "      <th>time</th>\n",
              "      <th>value</th>\n",
              "    </tr>\n",
              "  </thead>\n",
              "  <tbody>\n",
              "    <tr>\n",
              "      <th>3000</th>\n",
              "      <td>3000</td>\n",
              "      <td>36.437775</td>\n",
              "    </tr>\n",
              "    <tr>\n",
              "      <th>3001</th>\n",
              "      <td>3001</td>\n",
              "      <td>36.444473</td>\n",
              "    </tr>\n",
              "    <tr>\n",
              "      <th>3002</th>\n",
              "      <td>3002</td>\n",
              "      <td>36.450966</td>\n",
              "    </tr>\n",
              "    <tr>\n",
              "      <th>3003</th>\n",
              "      <td>3003</td>\n",
              "      <td>36.457272</td>\n",
              "    </tr>\n",
              "    <tr>\n",
              "      <th>3004</th>\n",
              "      <td>3004</td>\n",
              "      <td>36.463440</td>\n",
              "    </tr>\n",
              "    <tr>\n",
              "      <th>...</th>\n",
              "      <td>...</td>\n",
              "      <td>...</td>\n",
              "    </tr>\n",
              "    <tr>\n",
              "      <th>3990</th>\n",
              "      <td>3990</td>\n",
              "      <td>14.752495</td>\n",
              "    </tr>\n",
              "    <tr>\n",
              "      <th>3991</th>\n",
              "      <td>3991</td>\n",
              "      <td>14.785945</td>\n",
              "    </tr>\n",
              "    <tr>\n",
              "      <th>3992</th>\n",
              "      <td>3992</td>\n",
              "      <td>14.819691</td>\n",
              "    </tr>\n",
              "    <tr>\n",
              "      <th>3993</th>\n",
              "      <td>3993</td>\n",
              "      <td>14.853735</td>\n",
              "    </tr>\n",
              "    <tr>\n",
              "      <th>3994</th>\n",
              "      <td>3994</td>\n",
              "      <td>14.888077</td>\n",
              "    </tr>\n",
              "  </tbody>\n",
              "</table>\n",
              "<p>995 rows × 2 columns</p>\n",
              "</div>"
            ],
            "text/plain": [
              "      time      value\n",
              "3000  3000  36.437775\n",
              "3001  3001  36.444473\n",
              "3002  3002  36.450966\n",
              "3003  3003  36.457272\n",
              "3004  3004  36.463440\n",
              "...    ...        ...\n",
              "3990  3990  14.752495\n",
              "3991  3991  14.785945\n",
              "3992  3992  14.819691\n",
              "3993  3993  14.853735\n",
              "3994  3994  14.888077\n",
              "\n",
              "[995 rows x 2 columns]"
            ]
          },
          "metadata": {
            "tags": []
          },
          "execution_count": 66
        }
      ]
    },
    {
      "cell_type": "code",
      "metadata": {
        "id": "72bhf_9ypWUC",
        "colab_type": "code",
        "colab": {
          "base_uri": "https://localhost:8080/",
          "height": 85
        },
        "outputId": "39a57fc0-2c31-4dab-d1f1-c88b04b6bc93"
      },
      "source": [
        "submit(source_file=file,data=df_submit,key=key,no=10)"
      ],
      "execution_count": 67,
      "outputs": [
        {
          "output_type": "stream",
          "text": [
            "Success: Submitted Assignment #10 for hjulia:\n",
            "You have submitted this assignment 2 times. (this is fine)\n",
            "Warning: The mean of column value differs from the solution file by 0.5177289678391794. (might not matter if small)\n",
            "\n"
          ],
          "name": "stdout"
        }
      ]
    }
  ]
}