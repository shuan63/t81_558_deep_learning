{
  "nbformat": 4,
  "nbformat_minor": 0,
  "metadata": {
    "anaconda-cloud": {},
    "kernelspec": {
      "display_name": "Python 3.6 (tensorflow)",
      "language": "python",
      "name": "rga"
    },
    "language_info": {
      "codemirror_mode": {
        "name": "ipython",
        "version": 3
      },
      "file_extension": ".py",
      "mimetype": "text/x-python",
      "name": "python",
      "nbconvert_exporter": "python",
      "pygments_lexer": "ipython3",
      "version": "3.6.9"
    },
    "colab": {
      "name": "assignment_jhuang_class6.ipynb",
      "provenance": [],
      "collapsed_sections": []
    }
  },
  "cells": [
    {
      "cell_type": "markdown",
      "metadata": {
        "id": "LQmab-LdABA7",
        "colab_type": "text"
      },
      "source": [
        "# T81-558: Applications of Deep Neural Networks\n",
        "* Instructor: [Jeff Heaton](https://sites.wustl.edu/jeffheaton/), School of Engineering and Applied Science, [Washington University in St. Louis](https://engineering.wustl.edu/Programs/Pages/default.aspx)\n",
        "* For more information visit the [class website](https://sites.wustl.edu/jeffheaton/t81-558/).\n",
        "\n",
        "**Module 6 Assignment: Image Processing**\n",
        "\n",
        "**Student Name: Julia Huang**"
      ]
    },
    {
      "cell_type": "markdown",
      "metadata": {
        "id": "nk5keid9ABBD",
        "colab_type": "text"
      },
      "source": [
        "# Assignment Instructions\n",
        "\n",
        "For this assignment you will use two images: \n",
        "\n",
        "* [Dog House](https://github.com/jeffheaton/t81_558_deep_learning/raw/master/photos/hickory_home.jpg)\n",
        "* [Land Scape](https://github.com/jeffheaton/t81_558_deep_learning/raw/master/photos/landscape.jpg)\n",
        "\n",
        "\n",
        "Your code should work with any image; however, these are the two that the **submit** function is expecting.  The goal is to convert both images into square-sized.  In this module we saw how to convert to a square by cropping.  This time we will convert to a square by adding space.  If an image is [landscape orientation](https://en.wikipedia.org/wiki/Page_orientation) you will need to add space at the top and bottom.  Similarly for portrait (taller than wide) you will add space at the sides.  Make sure that the image is centered between the space. \n",
        "\n",
        "The following diagram illustrates this.\n",
        "\n",
        "![Image Processing Instructions](https://raw.githubusercontent.com/jeffheaton/t81_558_deep_learning/master/images/image-instructions.png \"Image Processing Instructions\")\n",
        "\n",
        "To calculate the color to add to the space, take the average of all RGB values.  Essentially sum all the red values, green, and blue and divide by total number of pixels.  Notice how the darker landscape picture above has a darker color added to the above/below space?  This is due to this averaging.  Make sure you convert your average RGB to integer, RGB does not have fractional values.\n",
        "\n",
        "The submit function will check to see if your height and width match my solution.  If your height and width are non-square or do not match my dimensions, you likely have a problem with your assignment.  \n",
        "\n",
        "The submit function also takes three pixels and tests them.  Pixels 1 and 3 are the upper left and lower-right, these are the average color and should match my solution exactly. You might see a difference in pixel 2, which is in the center, if you center the image differently than I do.  If you want to match my solution, make sure to round to integer after any divisions. \n"
      ]
    },
    {
      "cell_type": "markdown",
      "metadata": {
        "id": "XUGytjk1ABBe",
        "colab_type": "text"
      },
      "source": [
        "# Assignment Submit Function\n",
        "\n",
        "You will submit the 10 programming assignments electronically.  The following submit function can be used to do this.  My server will perform a basic check of each assignment and let you know if it sees any basic problems. \n",
        "\n",
        "**It is unlikely that should need to modify this function.**"
      ]
    },
    {
      "cell_type": "code",
      "metadata": {
        "id": "PzuPJ-NpABBk",
        "colab_type": "code",
        "colab": {}
      },
      "source": [
        "import base64\n",
        "import os\n",
        "import numpy as np\n",
        "import pandas as pd\n",
        "import requests\n",
        "\n",
        "# This function submits an assignment.  You can submit an assignment as much as you like, only the final\n",
        "# submission counts.  The paramaters are as follows:\n",
        "# data - Pandas dataframe output.\n",
        "# key - Your student key that was emailed to you.\n",
        "# no - The assignment class number, should be 1 through 1.\n",
        "# source_file - The full path to your Python or IPYNB file.  This must have \"_class1\" as part of its name.  \n",
        "# .             The number must match your assignment number.  For example \"_class2\" for class assignment #2.\n",
        "def submit(data,key,no,source_file=None):\n",
        "    if source_file is None and '__file__' not in globals(): raise Exception('Must specify a filename when a Jupyter notebook.')\n",
        "    if source_file is None: source_file = __file__\n",
        "    suffix = '_class{}'.format(no)\n",
        "    if suffix not in source_file: raise Exception('{} must be part of the filename.'.format(suffix))\n",
        "    with open(source_file, \"rb\") as image_file:\n",
        "        encoded_python = base64.b64encode(image_file.read()).decode('ascii')\n",
        "    ext = os.path.splitext(source_file)[-1].lower()\n",
        "    if ext not in ['.ipynb','.py']: raise Exception(\"Source file is {} must be .py or .ipynb\".format(ext))\n",
        "    r = requests.post(\"https://api.heatonresearch.com/assignment-submit\",\n",
        "        headers={'x-api-key':key}, json={'csv':base64.b64encode(data.to_csv(index=False).encode('ascii')).decode(\"ascii\"),\n",
        "        'assignment': no, 'ext':ext, 'py':encoded_python})\n",
        "    if r.status_code == 200:\n",
        "        print(\"Success: {}\".format(r.text))\n",
        "    else: print(\"Failure: {}\".format(r.text))\n",
        "        \n",
        "\n",
        "# These functions are provided to build a submission dataframe from the two images that you must\n",
        "# generate for this assignment.  It is unlikely that you would need to modify these.\n",
        "def scan_pixel(d,img_array,img_num,pix_num,x,y):\n",
        "    d[f'img{img_num}-p{pix_num}-rgb0'] = [img_array[y,x,0]]\n",
        "    d[f'img{img_num}-p{pix_num}-rgb1'] = [img_array[y,x,1]]\n",
        "    d[f'img{img_num}-p{pix_num}-rgb2'] = [img_array[y,x,2]]\n",
        "\n",
        "def scan_image(d,img_num,img):\n",
        "    img_array = np.asarray(img)\n",
        "    rows = img_array.shape[0]\n",
        "    cols = img_array.shape[1]\n",
        "    d[f'img{img_num}-height'] = [rows]\n",
        "    d[f'img{img_num}-width'] = [cols]\n",
        "    scan_pixel(d,img_array,img_num,0,0,0)\n",
        "    scan_pixel(d,img_array,img_num,1,int(cols/2),int(rows/2))\n",
        "    scan_pixel(d,img_array,img_num,2,cols-1,rows-1)\n",
        "\n",
        "def build_submit(submit_img1, submit_img2):\n",
        "    d = {}\n",
        "    scan_image(d,1,submit_img1)\n",
        "    scan_image(d,2,submit_img2)\n",
        "    return pd.DataFrame(d)"
      ],
      "execution_count": 0,
      "outputs": []
    },
    {
      "cell_type": "markdown",
      "metadata": {
        "id": "0s6Fe_SIABBo",
        "colab_type": "text"
      },
      "source": [
        "# Google CoLab Instructions\n",
        "\n",
        "If you are using Google CoLab, it will be necessary to mount your GDrive so that you can send your notebook during the submit process.  Running the following code will map your GDrive to /content/drive."
      ]
    },
    {
      "cell_type": "code",
      "metadata": {
        "id": "MYjla9CLABBp",
        "colab_type": "code",
        "outputId": "e16d866e-379e-4b5a-e368-61f0cbfbf3f5",
        "colab": {
          "base_uri": "https://localhost:8080/",
          "height": 34
        }
      },
      "source": [
        "from google.colab import drive\n",
        "drive.mount('/content/drive')"
      ],
      "execution_count": 0,
      "outputs": [
        {
          "output_type": "stream",
          "text": [
            "Drive already mounted at /content/drive; to attempt to forcibly remount, call drive.mount(\"/content/drive\", force_remount=True).\n"
          ],
          "name": "stdout"
        }
      ]
    },
    {
      "cell_type": "code",
      "metadata": {
        "id": "fPvBFfUPABBu",
        "colab_type": "code",
        "outputId": "bb8b0db0-9be0-4f33-d4d1-73510b88baab",
        "colab": {
          "base_uri": "https://localhost:8080/",
          "height": 102
        }
      },
      "source": [
        "!ls /content/drive/My\\ Drive/Colab\\ Notebooks"
      ],
      "execution_count": 0,
      "outputs": [
        {
          "output_type": "stream",
          "text": [
            "assignment_jhuang_class1.ipynb\tassignment_jhuang_class6.ipynb\n",
            "assignment_jhuang_class2.ipynb\tassignment_juliahuang_class3.ipynb\n",
            "assignment_jhuang_class3.ipynb\tUntitled\n",
            "assignment_jhuang_class4.ipynb\tUntitled0.ipynb\n",
            "assignment_jhuang_class5.ipynb\n"
          ],
          "name": "stdout"
        }
      ]
    },
    {
      "cell_type": "markdown",
      "metadata": {
        "collapsed": true,
        "id": "l-7PIErhABBy",
        "colab_type": "text"
      },
      "source": [
        "# Assignment #6 Sample Code\n",
        "\n",
        "The following code provides a starting point for this assignment."
      ]
    },
    {
      "cell_type": "code",
      "metadata": {
        "scrolled": true,
        "id": "m96NCSACABB0",
        "colab_type": "code",
        "outputId": "d7adad05-5460-49de-d008-9902933280e1",
        "colab": {
          "base_uri": "https://localhost:8080/",
          "height": 1000
        }
      },
      "source": [
        "%matplotlib inline\n",
        "\n",
        "import os\n",
        "import pandas as pd\n",
        "import io\n",
        "import requests\n",
        "import numpy as np\n",
        "from scipy.stats import zscore\n",
        "from PIL import Image, ImageFile\n",
        "from matplotlib.pyplot import imshow\n",
        "import requests\n",
        "from io import BytesIO\n",
        "import numpy as np\n",
        "\n",
        "# This is your student key that I emailed to you at the beginnning of the semester.\n",
        "key = \"Yg3Uc8sn118A6HaWAFSKG5g1Th1nOyw34jLD5Uh8\"  # This is an example key and will not work.\n",
        "\n",
        "# You must also identify your source file.  (modify for your local setup)\n",
        "file='/content/drive/My Drive/Colab Notebooks/assignment_jhuang_class6.ipynb'  # Google CoLab\n",
        "# file='C:\\\\Users\\\\jeffh\\\\projects\\\\t81_558_deep_learning\\\\assignments\\\\assignment_yourname_class6.ipynb'  # Windows\n",
        "#file='/Users/jheaton/projects/t81_558_deep_learning/assignments/assignment_yourname_class6.ipynb'  # Mac/Linux\n",
        "\n",
        "def fill_square_image(img):\n",
        "    cols,rows = img.size\n",
        "    \n",
        "    \n",
        "    img = Image.open(BytesIO(response.content))\n",
        "    img.load()\n",
        "\n",
        "    img_array = np.asarray(img)\n",
        "    \n",
        "    # Create new image\n",
        "    is_rows_larger_than_cols = True if rows > cols else False\n",
        "    img2_array = np.zeros((max(rows, cols), max(rows, cols), 3), dtype=np.uint8)\n",
        "    padding_size = abs(int((rows-cols)/2))\n",
        "    \n",
        "\n",
        "    for row in range(rows):\n",
        "        for col in range(cols):\n",
        "            t = np.mean(img_array[row,col])\n",
        "            if is_rows_larger_than_cols:\n",
        "              img2_array[row,col+padding_size] = img_array[row,col]\n",
        "            else:\n",
        "              img2_array[row+padding_size,col] = img_array[row,col]\n",
        "\n",
        "    median = (np.mean(img_array[:, :, 0]),np.mean(img_array[:, :, 1]),np.mean(img_array[:, :, 2]))\n",
        "\n",
        "    \n",
        "    if not is_rows_larger_than_cols:\n",
        "      img2_array[-padding_size:,:, 0].fill(median[0])\n",
        "      img2_array[-padding_size:,:, 1].fill(median[1])\n",
        "      img2_array[-padding_size:,:, 2].fill(median[2])\n",
        "      img2_array[:padding_size,:, 0].fill(median[0])\n",
        "      img2_array[:padding_size,:, 1].fill(median[1])\n",
        "      img2_array[:padding_size,:, 2].fill(median[2])\n",
        "    else:\n",
        "      img2_array[:, -padding_size:, 0].fill(median[0])\n",
        "      img2_array[:, -padding_size:, 1].fill(median[1])\n",
        "      img2_array[:, -padding_size:, 2].fill(median[2])\n",
        "      img2_array[:, :padding_size:, 0].fill(median[0])\n",
        "      img2_array[:, :padding_size, 1].fill(median[1])\n",
        "      img2_array[:, :padding_size, 2].fill(median[2])\n",
        "  \n",
        "    img = Image.fromarray(img2_array, 'RGB')\n",
        "    \n",
        "    return img\n",
        "  \n",
        "url = \"https://github.com/jeffheaton/t81_558_deep_learning/raw/master/photos/hickory_home.jpg\"\n",
        "response = requests.get(url)\n",
        "img = Image.open(BytesIO(response.content))\n",
        "img.load()\n",
        "submit_img1 = fill_square_image(img)\n",
        "display(submit_img1)\n",
        "\n",
        "\n",
        "url = \"https://github.com/jeffheaton/t81_558_deep_learning/raw/master/photos/landscape.jpg\"\n",
        "response = requests.get(url)\n",
        "img = Image.open(BytesIO(response.content))\n",
        "img.load()\n",
        "submit_img2 = fill_square_image(img)\n",
        "display(submit_img2)\n",
        "\n",
        "submit_df = build_submit(submit_img1, submit_img2)\n",
        "submit(source_file=file,data=submit_df,key=key,no=6)\n",
        "    \n",
        "\n"
      ],
      "execution_count": 0,
      "outputs": []
    },
    {
      "cell_type": "code",
      "metadata": {
        "id": "_QCqLfi-ihZv",
        "colab_type": "code",
        "outputId": "d2510cfa-00e0-4c06-8dab-e8e9859f4302",
        "colab": {
          "base_uri": "https://localhost:8080/",
          "height": 1000
        }
      },
      "source": [
        "def fill_square_image(img):\n",
        "    cols,rows = img.size\n",
        "    \n",
        "    \n",
        "    img = Image.open(BytesIO(response.content))\n",
        "    img.load()\n",
        "\n",
        "    img_array = np.asarray(img)\n",
        "    \n",
        "    # Create new image\n",
        "    is_rows_larger_than_cols = True if rows > cols else False\n",
        "    img2_array = np.zeros((max(rows, cols), max(rows, cols), 3), dtype=np.uint8)\n",
        "    padding_size = abs(int((rows-cols)/2))\n",
        "    \n",
        "\n",
        "    for row in range(rows):\n",
        "        for col in range(cols):\n",
        "            t = np.mean(img_array[row,col])\n",
        "            if is_rows_larger_than_cols:\n",
        "              img2_array[row,col+padding_size] = img_array[row,col]\n",
        "            else:\n",
        "              img2_array[row+padding_size,col] = img_array[row,col]\n",
        "\n",
        "    median = (np.mean(img_array[:, :, 0]),np.mean(img_array[:, :, 1]),np.mean(img_array[:, :, 2]))\n",
        "\n",
        "    \n",
        "    if not is_rows_larger_than_cols:\n",
        "      img2_array[-padding_size:,:, 0].fill(median[0])\n",
        "      img2_array[-padding_size:,:, 1].fill(median[1])\n",
        "      img2_array[-padding_size:,:, 2].fill(median[2])\n",
        "      img2_array[:padding_size,:, 0].fill(median[0])\n",
        "      img2_array[:padding_size,:, 1].fill(median[1])\n",
        "      img2_array[:padding_size,:, 2].fill(median[2])\n",
        "    else:\n",
        "      img2_array[:, -padding_size:, 0].fill(median[0])\n",
        "      img2_array[:, -padding_size:, 1].fill(median[1])\n",
        "      img2_array[:, -padding_size:, 2].fill(median[2])\n",
        "      img2_array[:, :padding_size:, 0].fill(median[0])\n",
        "      img2_array[:, :padding_size, 1].fill(median[1])\n",
        "      img2_array[:, :padding_size, 2].fill(median[2])\n",
        "  \n",
        "    img = Image.fromarray(img2_array, 'RGB')\n",
        "    \n",
        "    return img\n",
        "\n",
        "url = \"https://github.com/jeffheaton/t81_558_deep_learning/raw/master/photos/hickory_home.jpg\"\n",
        "response = requests.get(url)\n",
        "img = Image.open(BytesIO(response.content))\n",
        "img.load()\n",
        "submit_img1 = fill_square_image(img)\n",
        "display(submit_img1)\n",
        "\n",
        "\n",
        "url = \"https://github.com/jeffheaton/t81_558_deep_learning/raw/master/photos/landscape.jpg\"\n",
        "response = requests.get(url)\n",
        "img = Image.open(BytesIO(response.content))\n",
        "img.load()\n",
        "submit_img2 = fill_square_image(img)\n",
        "display(submit_img2)\n",
        "\n",
        "# images = [\"https://github.com/jeffheaton/t81_558_deep_learning/raw/master/photos/hickory_home.jpg\", \"https://github.com/jeffheaton/t81_558_deep_learning/raw/master/photos/landscape.jpg\"]\n",
        "    \n",
        "# for url in images:\n",
        "#     ImageFile.LOAD_TRUNCATED_IMAGES = False\n",
        "#     response = requests.get(url)\n",
        "#     img = Image.open(BytesIO(response.content))\n",
        "#     img.load()\n",
        "#     img = fill_square_image(img)\n",
        "#     img = img.resize((256,256), Image.ANTIALIAS)\n",
        "    \n",
        "#     display(img)\n",
        "    \n",
        "\n",
        "\n",
        "\n"
      ],
      "execution_count": 0,
      "outputs": []
    },
    {
      "cell_type": "code",
      "metadata": {
        "id": "pfaHLfcxCndF",
        "colab_type": "code",
        "outputId": "86e9dc94-7b14-4dbe-9329-63c2d2d7e8b0",
        "colab": {
          "base_uri": "https://localhost:8080/",
          "height": 351
        }
      },
      "source": [
        "import os\n",
        "import pandas as pd\n",
        "import io\n",
        "import requests\n",
        "import numpy as np\n",
        "from scipy.stats import zscore\n",
        "from PIL import Image, ImageFile\n",
        "from matplotlib.pyplot import imshow\n",
        "import requests\n",
        "from io import BytesIO\n",
        "import numpy as np\n",
        "import cv2\n",
        "\n",
        "\n",
        "\n",
        "def fill_square_image(img):\n",
        "  \n",
        "  cols,rows = img.size\n",
        "    \n",
        "    \n",
        "  img = Image.open(BytesIO(response.content))\n",
        "  img.load()\n",
        "\n",
        "  img_array = np.asarray(img)\n",
        "    \n",
        "  # Create new image\n",
        "  is_rows_larger_than_cols = True if rows > cols else False\n",
        "  img2_array = np.zeros((max(rows, cols), max(rows, cols), 3), dtype=np.uint8)\n",
        "  padding_size = abs(int((rows-cols)/2))\n",
        "    \n",
        "\n",
        "  for row in range(rows):\n",
        "    for col in range(cols):\n",
        "      t = np.mean(img_array[row,col])\n",
        "      if is_rows_larger_than_cols:\n",
        "        img2_array[row,col+padding_size] = img_array[row,col]\n",
        "      else:\n",
        "        img2_array[row+padding_size,col] = img_array[row,col]\n",
        "\n",
        "  median = (np.mean(img_array[:, :, 0]),np.mean(img_array[:, :, 1]),np.mean(img_array[:, :, 2]))\n",
        "\n",
        "    \n",
        "  if not is_rows_larger_than_cols:\n",
        "    img2_array[-padding_size:,:, 0].fill(median[0])\n",
        "    img2_array[-padding_size:,:, 1].fill(median[1])\n",
        "    img2_array[-padding_size:,:, 2].fill(median[2])\n",
        "    img2_array[:padding_size,:, 0].fill(median[0])\n",
        "    img2_array[:padding_size,:, 1].fill(median[1])\n",
        "    img2_array[:padding_size,:, 2].fill(median[2])\n",
        "  else:\n",
        "    img2_array[:, -padding_size:, 0].fill(median[0])\n",
        "    img2_array[:, -padding_size:, 1].fill(median[1])\n",
        "    img2_array[:, -padding_size:, 2].fill(median[2])\n",
        "    img2_array[:, :padding_size:, 0].fill(median[0])\n",
        "    img2_array[:, :padding_size, 1].fill(median[1])\n",
        "    img2_array[:, :padding_size, 2].fill(median[2])\n",
        "  \n",
        "    img = Image.fromarray(img2_array, 'RGB')\n",
        "  return img\n",
        "\n",
        "url = \"https://github.com/jeffheaton/t81_558_deep_learning/raw/master/photos/hickory_home.jpg\"\n",
        "response = requests.get(url)\n",
        "img = Image.open(BytesIO(response.content))\n",
        "img.load()\n",
        "img = img.resize((256,256), Image.ANTIALIAS)\n",
        "submit_img1 = fill_square_image(img)\n",
        "display(submit_img1)\n",
        "\n",
        "\n",
        "url = \"https://github.com/jeffheaton/t81_558_deep_learning/raw/master/photos/landscape.jpg\"\n",
        "response = requests.get(url)\n",
        "img = Image.open(BytesIO(response.content))\n",
        "img.load()\n",
        "img = img.resize((256,256), Image.ANTIALIAS)\n",
        "submit_img2 = fill_square_image(img)\n",
        "display(submit_img2)\n",
        "\n",
        "\n",
        "\n"
      ],
      "execution_count": 0,
      "outputs": [
        {
          "output_type": "error",
          "ename": "IndexError",
          "evalue": "ignored",
          "traceback": [
            "\u001b[0;31m---------------------------------------------------------------------------\u001b[0m",
            "\u001b[0;31mIndexError\u001b[0m                                Traceback (most recent call last)",
            "\u001b[0;32m<ipython-input-66-a24cbd223833>\u001b[0m in \u001b[0;36m<module>\u001b[0;34m()\u001b[0m\n\u001b[1;32m     64\u001b[0m \u001b[0mimg\u001b[0m\u001b[0;34m.\u001b[0m\u001b[0mload\u001b[0m\u001b[0;34m(\u001b[0m\u001b[0;34m)\u001b[0m\u001b[0;34m\u001b[0m\u001b[0;34m\u001b[0m\u001b[0m\n\u001b[1;32m     65\u001b[0m \u001b[0mimg\u001b[0m \u001b[0;34m=\u001b[0m \u001b[0mimg\u001b[0m\u001b[0;34m.\u001b[0m\u001b[0mresize\u001b[0m\u001b[0;34m(\u001b[0m\u001b[0;34m(\u001b[0m\u001b[0;36m256\u001b[0m\u001b[0;34m,\u001b[0m\u001b[0;36m256\u001b[0m\u001b[0;34m)\u001b[0m\u001b[0;34m,\u001b[0m \u001b[0mImage\u001b[0m\u001b[0;34m.\u001b[0m\u001b[0mANTIALIAS\u001b[0m\u001b[0;34m)\u001b[0m\u001b[0;34m\u001b[0m\u001b[0;34m\u001b[0m\u001b[0m\n\u001b[0;32m---> 66\u001b[0;31m \u001b[0msubmit_img1\u001b[0m \u001b[0;34m=\u001b[0m \u001b[0mfill_square_image\u001b[0m\u001b[0;34m(\u001b[0m\u001b[0mimg\u001b[0m\u001b[0;34m)\u001b[0m\u001b[0;34m\u001b[0m\u001b[0;34m\u001b[0m\u001b[0m\n\u001b[0m\u001b[1;32m     67\u001b[0m \u001b[0mdisplay\u001b[0m\u001b[0;34m(\u001b[0m\u001b[0msubmit_img1\u001b[0m\u001b[0;34m)\u001b[0m\u001b[0;34m\u001b[0m\u001b[0;34m\u001b[0m\u001b[0m\n\u001b[1;32m     68\u001b[0m \u001b[0;34m\u001b[0m\u001b[0m\n",
            "\u001b[0;32m<ipython-input-66-a24cbd223833>\u001b[0m in \u001b[0;36mfill_square_image\u001b[0;34m(img)\u001b[0m\n\u001b[1;32m     32\u001b[0m   \u001b[0;32mfor\u001b[0m \u001b[0mrow\u001b[0m \u001b[0;32min\u001b[0m \u001b[0mrange\u001b[0m\u001b[0;34m(\u001b[0m\u001b[0mrows\u001b[0m\u001b[0;34m)\u001b[0m\u001b[0;34m:\u001b[0m\u001b[0;34m\u001b[0m\u001b[0;34m\u001b[0m\u001b[0m\n\u001b[1;32m     33\u001b[0m     \u001b[0;32mfor\u001b[0m \u001b[0mcol\u001b[0m \u001b[0;32min\u001b[0m \u001b[0mrange\u001b[0m\u001b[0;34m(\u001b[0m\u001b[0mcols\u001b[0m\u001b[0;34m)\u001b[0m\u001b[0;34m:\u001b[0m\u001b[0;34m\u001b[0m\u001b[0;34m\u001b[0m\u001b[0m\n\u001b[0;32m---> 34\u001b[0;31m       \u001b[0mt\u001b[0m \u001b[0;34m=\u001b[0m \u001b[0mnp\u001b[0m\u001b[0;34m.\u001b[0m\u001b[0mmean\u001b[0m\u001b[0;34m(\u001b[0m\u001b[0mimg_array\u001b[0m\u001b[0;34m[\u001b[0m\u001b[0mrow\u001b[0m\u001b[0;34m,\u001b[0m\u001b[0mcol\u001b[0m\u001b[0;34m]\u001b[0m\u001b[0;34m)\u001b[0m\u001b[0;34m\u001b[0m\u001b[0;34m\u001b[0m\u001b[0m\n\u001b[0m\u001b[1;32m     35\u001b[0m       \u001b[0;32mif\u001b[0m \u001b[0mis_rows_larger_than_cols\u001b[0m\u001b[0;34m:\u001b[0m\u001b[0;34m\u001b[0m\u001b[0;34m\u001b[0m\u001b[0m\n\u001b[1;32m     36\u001b[0m         \u001b[0mimg2_array\u001b[0m\u001b[0;34m[\u001b[0m\u001b[0mrow\u001b[0m\u001b[0;34m,\u001b[0m\u001b[0mcol\u001b[0m\u001b[0;34m+\u001b[0m\u001b[0mpadding_size\u001b[0m\u001b[0;34m]\u001b[0m \u001b[0;34m=\u001b[0m \u001b[0mimg_array\u001b[0m\u001b[0;34m[\u001b[0m\u001b[0mrow\u001b[0m\u001b[0;34m,\u001b[0m\u001b[0mcol\u001b[0m\u001b[0;34m]\u001b[0m\u001b[0;34m\u001b[0m\u001b[0;34m\u001b[0m\u001b[0m\n",
            "\u001b[0;31mIndexError\u001b[0m: index 240 is out of bounds for axis 1 with size 240"
          ]
        }
      ]
    },
    {
      "cell_type": "code",
      "metadata": {
        "id": "wH1Ay2xAABB-",
        "colab_type": "code",
        "colab": {}
      },
      "source": [
        "# Submit\n",
        "submit_df = build_submit(submit_img1, submit_img2)\n",
        "submit(source_file=file,data=submit_df,key=key,no=6)"
      ],
      "execution_count": 0,
      "outputs": []
    }
  ]
}